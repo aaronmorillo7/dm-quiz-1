{
 "cells": [
  {
   "cell_type": "markdown",
   "id": "972b1521-b214-49a8-8ebd-eb36790d9723",
   "metadata": {},
   "source": [
    "# Preprocesamiento del conjunto de datos \"Medical Students Dataset\" "
   ]
  },
  {
   "cell_type": "markdown",
   "id": "5e2ceb18-d6ec-42c4-b871-daba99cca426",
   "metadata": {},
   "source": [
    "Podemos establecer las faltas según los requerimientos estructurales y funcionales."
   ]
  },
  {
   "cell_type": "code",
   "execution_count": 453,
   "id": "a9f40664-ef96-4912-9d86-4c35f11ce04c",
   "metadata": {},
   "outputs": [
    {
     "name": "stdout",
     "output_type": "stream",
     "text": [
      "   Student ID   Age  Gender      Height     Weight Blood Type        BMI  \\\n",
      "0         1.0  18.0  Female  161.777924  72.354947          O  27.645835   \n",
      "1         2.0   NaN    Male  152.069157  47.630941          B        NaN   \n",
      "2         3.0  32.0  Female  182.537664  55.741083          A  16.729017   \n",
      "3         NaN  30.0    Male  182.112867  63.332207          B  19.096042   \n",
      "4         5.0  23.0  Female         NaN  46.234173          O        NaN   \n",
      "5         6.0  32.0     NaN  151.491294  68.647805          B  29.912403   \n",
      "6         7.0  21.0     NaN  172.949704  48.102744         AB  16.081635   \n",
      "7         8.0  28.0    Male  186.489402  52.389752         AB  15.063921   \n",
      "8         9.0  21.0    Male  155.039678  42.958703          B        NaN   \n",
      "9        10.0  32.0     NaN  170.836315  50.783250          B  17.400435   \n",
      "\n",
      "   Temperature  Heart Rate  Blood Pressure  Cholesterol Diabetes Smoking  \n",
      "0          NaN        95.0           109.0        203.0       No     NaN  \n",
      "1    98.714977        93.0           104.0        163.0       No      No  \n",
      "2    98.260293        76.0           130.0        216.0      Yes      No  \n",
      "3    98.839605        99.0           112.0        141.0       No     Yes  \n",
      "4    98.480008        95.0             NaN        231.0       No      No  \n",
      "5    99.668373        70.0           128.0        183.0      NaN     Yes  \n",
      "6    97.715469        66.0           134.0        247.0       No      No  \n",
      "7    98.227788        85.0           123.0        128.0       No      No  \n",
      "8    98.808053         NaN           111.0        243.0       No      No  \n",
      "9    98.570168        61.0            94.0        166.0      NaN      No  \n"
     ]
    }
   ],
   "source": [
    "import pandas as pd\n",
    "import numpy as np\n",
    "\n",
    "dataset = pd.read_csv('datasets/medical_students_dataset.csv')\n",
    "\n",
    "print(dataset.iloc[:10])"
   ]
  },
  {
   "cell_type": "markdown",
   "id": "bd9169cf-d460-48ab-97c8-9d3c3b9c3fad",
   "metadata": {},
   "source": [
    "Para el caso de las posibles faltas a los requerimientos estructurales se tiene que la columna BMI contiene dos variables que ya están en el dataset, el pseo y la altura, teniendo la relación por medio de su formula \"BMI = peso/(altura)². Así se puede eliminar la columna."
   ]
  },
  {
   "cell_type": "code",
   "execution_count": 454,
   "id": "9e982b31-2f99-422d-bfcf-83cf9433b0d6",
   "metadata": {},
   "outputs": [
    {
     "name": "stdout",
     "output_type": "stream",
     "text": [
      "        Student ID   Age  Gender      Height     Weight Blood Type  \\\n",
      "0              1.0  18.0  Female  161.777924  72.354947          O   \n",
      "1              2.0   NaN    Male  152.069157  47.630941          B   \n",
      "2              3.0  32.0  Female  182.537664  55.741083          A   \n",
      "3              NaN  30.0    Male  182.112867  63.332207          B   \n",
      "4              5.0  23.0  Female         NaN  46.234173          O   \n",
      "...            ...   ...     ...         ...        ...        ...   \n",
      "199995         NaN  24.0    Male  176.503260  95.756997          B   \n",
      "199996     99997.0  29.0  Female  163.917675  45.225194        NaN   \n",
      "199997     99998.0  34.0  Female         NaN  99.648914        NaN   \n",
      "199998     99999.0  30.0  Female  156.446944  50.142824          A   \n",
      "199999    100000.0  20.0  Female  153.927409  99.928405          O   \n",
      "\n",
      "        Temperature  Heart Rate  Blood Pressure  Cholesterol Diabetes Smoking  \n",
      "0               NaN        95.0           109.0        203.0       No     NaN  \n",
      "1         98.714977        93.0           104.0        163.0       No      No  \n",
      "2         98.260293        76.0           130.0        216.0      Yes      No  \n",
      "3         98.839605        99.0           112.0        141.0       No     Yes  \n",
      "4         98.480008        95.0             NaN        231.0       No      No  \n",
      "...             ...         ...             ...          ...      ...     ...  \n",
      "199995    99.170685        65.0           121.0        130.0       No      No  \n",
      "199996    97.865785        62.0           125.0        198.0       No     Yes  \n",
      "199997    98.768210        60.0            90.0        154.0      NaN      No  \n",
      "199998    98.994212        61.0           106.0        225.0       No      No  \n",
      "199999    98.595817        95.0           133.0        132.0      NaN      No  \n",
      "\n",
      "[200000 rows x 12 columns]\n"
     ]
    }
   ],
   "source": [
    "dataset = dataset.drop('BMI', axis=1)\n",
    "\n",
    "print(dataset)"
   ]
  },
  {
   "cell_type": "markdown",
   "id": "e343ec62-9fc2-416b-8350-edbdb149d91b",
   "metadata": {},
   "source": [
    "Para el caso de las faltas visibles a los requerimientos funcionales, se tiene que existen muchas observaciones con valores nulos. Teniendo en cuenta la modificación anterior, se procederá a realizar sustituciones de estos valores.\n",
    "\n",
    "Cabe destacar que existen dos formas obtener el resultado,  y el punto decisivo para esto está en realizar un filtrado de las observaciones que tengan valor nulo en la columna \"Student ID\" (puesto a que puede considerarse que por no tener una ID, la observación puede ser descartada debido a que es posible que sea errónea o no se deba tomar en cuenta ya que técnicamente ese identificador no existe o es inválido) o se puede hacer una sustitución de la columna \"Student ID\" también con una ID random mayor a la máxima ID. Este paso puede hacerse al final de todos los pasos previos.\n",
    "\n",
    "Antes de proceder con esto, es posible aplicar una conversión de las categorías o valores de la columna gender a un dominio de enteros [0, 1] donde \"Male\" corresponde al valor 0 y \"Female\" al valor 1, con la intención se hacer los valores independientes del lenguaje, más fiables, manejables y usables. Los mismo se puede aplicar para las columnas \"Diabetes\" y \"Smoking\", pero en estos dos casos, el 0 corresponde a \"No\" y el 1 a \"Yes\".\n",
    "\n",
    "Otro problema presente en el dataset son los duplicados, los cuales se procederá a eliminar. Además de esto se tiene un detalle con la representación de algunos números, pues es más útil tener, por ejemplo un decimal a tener 6 o 5. Se pueden redondear lo valores."
   ]
  },
  {
   "cell_type": "code",
   "execution_count": 455,
   "id": "e19390a6-372b-48ca-af24-d51a96da6e73",
   "metadata": {},
   "outputs": [
    {
     "name": "stdout",
     "output_type": "stream",
     "text": [
      "        Student ID   Age Gender  Height  Weight Blood Type  Temperature  \\\n",
      "0              1.0  18.0      1   161.8    72.4          O          NaN   \n",
      "1              2.0   NaN      0   152.1    47.6          B         98.7   \n",
      "2              3.0  32.0      1   182.5    55.7          A         98.3   \n",
      "3              NaN  30.0      0   182.1    63.3          B         98.8   \n",
      "4              5.0  23.0      1     NaN    46.2          O         98.5   \n",
      "...            ...   ...    ...     ...     ...        ...          ...   \n",
      "199995         NaN  24.0      0   176.5    95.8          B         99.2   \n",
      "199996     99997.0  29.0      1   163.9    45.2        NaN         97.9   \n",
      "199997     99998.0  34.0      1     NaN    99.6        NaN         98.8   \n",
      "199998     99999.0  30.0      1   156.4    50.1          A         99.0   \n",
      "199999    100000.0  20.0      1   153.9    99.9          O         98.6   \n",
      "\n",
      "        Heart Rate  Blood Pressure  Cholesterol Diabetes Smoking  \n",
      "0             95.0           109.0        203.0        0     NaN  \n",
      "1             93.0           104.0        163.0        0       0  \n",
      "2             76.0           130.0        216.0        1       0  \n",
      "3             99.0           112.0        141.0        0       1  \n",
      "4             95.0             NaN        231.0        0       0  \n",
      "...            ...             ...          ...      ...     ...  \n",
      "199995        65.0           121.0        130.0        0       0  \n",
      "199996        62.0           125.0        198.0        0       1  \n",
      "199997        60.0            90.0        154.0      NaN       0  \n",
      "199998        61.0           106.0        225.0        0       0  \n",
      "199999        95.0           133.0        132.0      NaN       0  \n",
      "\n",
      "[200000 rows x 12 columns]\n"
     ]
    }
   ],
   "source": [
    "dataset['Height'] = dataset['Height'].round(1)\n",
    "dataset['Weight'] = dataset['Weight'].round(1)\n",
    "dataset['Temperature'] = dataset['Temperature'].round(1)\n",
    "\n",
    "dataset.loc[dataset['Gender'] == 'Female', 'Gender'] = 1\n",
    "dataset.loc[dataset['Gender'] == 'Male', 'Gender'] = 0\n",
    "\n",
    "dataset.loc[dataset['Diabetes'] == 'Yes', 'Diabetes'] = 1\n",
    "dataset.loc[dataset['Diabetes'] == 'No', 'Diabetes'] = 0\n",
    "\n",
    "dataset.loc[dataset['Smoking'] == 'Yes', 'Smoking'] = 1\n",
    "dataset.loc[dataset['Smoking'] == 'No', 'Smoking'] = 0\n",
    "\n",
    "print(dataset)"
   ]
  },
  {
   "cell_type": "code",
   "execution_count": 456,
   "id": "e0adad04-e598-4503-8ecc-8febd09ba436",
   "metadata": {},
   "outputs": [
    {
     "name": "stdout",
     "output_type": "stream",
     "text": [
      "   Student ID   Age Gender  Height  Weight Blood Type  Temperature  \\\n",
      "0         1.0  18.0      1   161.8    72.4          O          NaN   \n",
      "1         2.0  26.0      0   152.1    47.6          B         98.7   \n",
      "2         3.0  32.0      1   182.5    55.7          A         98.3   \n",
      "3         NaN  30.0      0   182.1    63.3          B         98.8   \n",
      "4         5.0  23.0      1     NaN    46.2          O         98.5   \n",
      "5         6.0  32.0    NaN   151.5    68.6          B         99.7   \n",
      "6         7.0  21.0    NaN   172.9    48.1         AB         97.7   \n",
      "7         8.0  28.0      0   186.5    52.4         AB         98.2   \n",
      "8         9.0  21.0      0   155.0    43.0          B         98.8   \n",
      "9        10.0  32.0    NaN   170.8    50.8          B         98.6   \n",
      "\n",
      "   Heart Rate  Blood Pressure  Cholesterol Diabetes Smoking  \n",
      "0        95.0           109.0        203.0        0     NaN  \n",
      "1        93.0           104.0        163.0        0       0  \n",
      "2        76.0           130.0        216.0        1       0  \n",
      "3        99.0           112.0        141.0        0       1  \n",
      "4        95.0             NaN        231.0        0       0  \n",
      "5        70.0           128.0        183.0      NaN       1  \n",
      "6        66.0           134.0        247.0        0       0  \n",
      "7        85.0           123.0        128.0        0       0  \n",
      "8         NaN           111.0        243.0        0       0  \n",
      "9        61.0            94.0        166.0      NaN       0  \n"
     ]
    }
   ],
   "source": [
    "filtered_dataset = dataset\n",
    "\n",
    "age_average = filtered_dataset['Age'].mean()\n",
    "\n",
    "filtered_dataset.loc[filtered_dataset['Age'].isnull(), 'Age'] = round(age_average)\n",
    "\n",
    "print(filtered_dataset.iloc[:10])"
   ]
  },
  {
   "cell_type": "code",
   "execution_count": 457,
   "id": "ef9a69cd-6deb-4cc8-b090-662bb2d6cc4b",
   "metadata": {},
   "outputs": [
    {
     "name": "stdout",
     "output_type": "stream",
     "text": [
      "   Student ID   Age Gender  Height  Weight Blood Type  Temperature  \\\n",
      "0         1.0  18.0      1   161.8    72.4          O          NaN   \n",
      "1         2.0  26.0      0   152.1    47.6          B         98.7   \n",
      "2         3.0  32.0      1   182.5    55.7          A         98.3   \n",
      "3         NaN  30.0      0   182.1    63.3          B         98.8   \n",
      "4         5.0  23.0      1     NaN    46.2          O         98.5   \n",
      "5         6.0  32.0      0   151.5    68.6          B         99.7   \n",
      "6         7.0  21.0      0   172.9    48.1         AB         97.7   \n",
      "7         8.0  28.0      0   186.5    52.4         AB         98.2   \n",
      "8         9.0  21.0      0   155.0    43.0          B         98.8   \n",
      "9        10.0  32.0      0   170.8    50.8          B         98.6   \n",
      "\n",
      "   Heart Rate  Blood Pressure  Cholesterol Diabetes Smoking  \n",
      "0        95.0           109.0        203.0        0     NaN  \n",
      "1        93.0           104.0        163.0        0       0  \n",
      "2        76.0           130.0        216.0        1       0  \n",
      "3        99.0           112.0        141.0        0       1  \n",
      "4        95.0             NaN        231.0        0       0  \n",
      "5        70.0           128.0        183.0      NaN       1  \n",
      "6        66.0           134.0        247.0        0       0  \n",
      "7        85.0           123.0        128.0        0       0  \n",
      "8         NaN           111.0        243.0        0       0  \n",
      "9        61.0            94.0        166.0      NaN       0  \n"
     ]
    }
   ],
   "source": [
    "most_frequent_gender = filtered_dataset['Gender'].mode()[0] \n",
    "\n",
    "filtered_dataset.loc[filtered_dataset['Gender'].isnull(), 'Gender'] = most_frequent_gender\n",
    "\n",
    "print(filtered_dataset.iloc[:10])"
   ]
  },
  {
   "cell_type": "code",
   "execution_count": 458,
   "id": "c70cf738-db19-4489-9b4a-136cfa7dd7cd",
   "metadata": {},
   "outputs": [
    {
     "name": "stdout",
     "output_type": "stream",
     "text": [
      "   Student ID   Age Gender  Height  Weight Blood Type  Temperature  \\\n",
      "0         1.0  18.0      1  161.80    72.4          O          NaN   \n",
      "1         2.0  26.0      0  152.10    47.6          B         98.7   \n",
      "2         3.0  32.0      1  182.50    55.7          A         98.3   \n",
      "3         NaN  30.0      0  182.10    63.3          B         98.8   \n",
      "4         5.0  23.0      1  174.95    46.2          O         98.5   \n",
      "5         6.0  32.0      0  151.50    68.6          B         99.7   \n",
      "6         7.0  21.0      0  172.90    48.1         AB         97.7   \n",
      "7         8.0  28.0      0  186.50    52.4         AB         98.2   \n",
      "8         9.0  21.0      0  155.00    43.0          B         98.8   \n",
      "9        10.0  32.0      0  170.80    50.8          B         98.6   \n",
      "\n",
      "   Heart Rate  Blood Pressure  Cholesterol Diabetes Smoking  \n",
      "0        95.0           109.0        203.0        0     NaN  \n",
      "1        93.0           104.0        163.0        0       0  \n",
      "2        76.0           130.0        216.0        1       0  \n",
      "3        99.0           112.0        141.0        0       1  \n",
      "4        95.0             NaN        231.0        0       0  \n",
      "5        70.0           128.0        183.0      NaN       1  \n",
      "6        66.0           134.0        247.0        0       0  \n",
      "7        85.0           123.0        128.0        0       0  \n",
      "8         NaN           111.0        243.0        0       0  \n",
      "9        61.0            94.0        166.0      NaN       0  \n"
     ]
    }
   ],
   "source": [
    "height_average = filtered_dataset['Height'].mean()\n",
    "\n",
    "filtered_dataset.loc[filtered_dataset['Height'].isnull(), 'Height'] = round(height_average, 2)\n",
    "\n",
    "print(filtered_dataset.iloc[:10])"
   ]
  },
  {
   "cell_type": "code",
   "execution_count": 459,
   "id": "6a63ee12-b93e-46b9-887b-9c813450a7e8",
   "metadata": {},
   "outputs": [
    {
     "name": "stdout",
     "output_type": "stream",
     "text": [
      "   Student ID   Age Gender  Height  Weight Blood Type  Temperature  \\\n",
      "0         1.0  18.0      1  161.80    72.4          O          NaN   \n",
      "1         2.0  26.0      0  152.10    47.6          B         98.7   \n",
      "2         3.0  32.0      1  182.50    55.7          A         98.3   \n",
      "3         NaN  30.0      0  182.10    63.3          B         98.8   \n",
      "4         5.0  23.0      1  174.95    46.2          O         98.5   \n",
      "5         6.0  32.0      0  151.50    68.6          B         99.7   \n",
      "6         7.0  21.0      0  172.90    48.1         AB         97.7   \n",
      "7         8.0  28.0      0  186.50    52.4         AB         98.2   \n",
      "8         9.0  21.0      0  155.00    43.0          B         98.8   \n",
      "9        10.0  32.0      0  170.80    50.8          B         98.6   \n",
      "\n",
      "   Heart Rate  Blood Pressure  Cholesterol Diabetes Smoking  \n",
      "0        95.0           109.0        203.0        0     NaN  \n",
      "1        93.0           104.0        163.0        0       0  \n",
      "2        76.0           130.0        216.0        1       0  \n",
      "3        99.0           112.0        141.0        0       1  \n",
      "4        95.0             NaN        231.0        0       0  \n",
      "5        70.0           128.0        183.0      NaN       1  \n",
      "6        66.0           134.0        247.0        0       0  \n",
      "7        85.0           123.0        128.0        0       0  \n",
      "8         NaN           111.0        243.0        0       0  \n",
      "9        61.0            94.0        166.0      NaN       0  \n"
     ]
    }
   ],
   "source": [
    "weight_average = filtered_dataset['Weight'].mean()\n",
    "\n",
    "filtered_dataset.loc[filtered_dataset['Weight'].isnull(), 'Weight'] = round(weight_average,2)\n",
    "\n",
    "print(filtered_dataset.iloc[:10])"
   ]
  },
  {
   "cell_type": "code",
   "execution_count": 460,
   "id": "e1d23377-31e1-41b3-8564-0c254ab65e53",
   "metadata": {},
   "outputs": [
    {
     "name": "stdout",
     "output_type": "stream",
     "text": [
      "   Student ID   Age Gender  Height  Weight Blood Type  Temperature  \\\n",
      "0         1.0  18.0      1  161.80    72.4          O          NaN   \n",
      "1         2.0  26.0      0  152.10    47.6          B         98.7   \n",
      "2         3.0  32.0      1  182.50    55.7          A         98.3   \n",
      "3         NaN  30.0      0  182.10    63.3          B         98.8   \n",
      "4         5.0  23.0      1  174.95    46.2          O         98.5   \n",
      "5         6.0  32.0      0  151.50    68.6          B         99.7   \n",
      "6         7.0  21.0      0  172.90    48.1         AB         97.7   \n",
      "7         8.0  28.0      0  186.50    52.4         AB         98.2   \n",
      "8         9.0  21.0      0  155.00    43.0          B         98.8   \n",
      "9        10.0  32.0      0  170.80    50.8          B         98.6   \n",
      "\n",
      "   Heart Rate  Blood Pressure  Cholesterol Diabetes Smoking  \n",
      "0        95.0           109.0        203.0        0     NaN  \n",
      "1        93.0           104.0        163.0        0       0  \n",
      "2        76.0           130.0        216.0        1       0  \n",
      "3        99.0           112.0        141.0        0       1  \n",
      "4        95.0             NaN        231.0        0       0  \n",
      "5        70.0           128.0        183.0      NaN       1  \n",
      "6        66.0           134.0        247.0        0       0  \n",
      "7        85.0           123.0        128.0        0       0  \n",
      "8         NaN           111.0        243.0        0       0  \n",
      "9        61.0            94.0        166.0      NaN       0  \n"
     ]
    }
   ],
   "source": [
    "most_frequent_blood_type = filtered_dataset['Blood Type'].mode()[0] \n",
    "\n",
    "filtered_dataset.loc[filtered_dataset['Blood Type'].isnull(), 'Blood Type'] = most_frequent_blood_type\n",
    "\n",
    "print(filtered_dataset.iloc[:10])"
   ]
  },
  {
   "cell_type": "code",
   "execution_count": 461,
   "id": "355d1219-a875-410b-9bb0-853ce545d572",
   "metadata": {},
   "outputs": [
    {
     "name": "stdout",
     "output_type": "stream",
     "text": [
      "   Student ID   Age Gender  Height  Weight Blood Type  Temperature  \\\n",
      "0         1.0  18.0      1  161.80    72.4          O         98.6   \n",
      "1         2.0  26.0      0  152.10    47.6          B         98.7   \n",
      "2         3.0  32.0      1  182.50    55.7          A         98.3   \n",
      "3         NaN  30.0      0  182.10    63.3          B         98.8   \n",
      "4         5.0  23.0      1  174.95    46.2          O         98.5   \n",
      "5         6.0  32.0      0  151.50    68.6          B         99.7   \n",
      "6         7.0  21.0      0  172.90    48.1         AB         97.7   \n",
      "7         8.0  28.0      0  186.50    52.4         AB         98.2   \n",
      "8         9.0  21.0      0  155.00    43.0          B         98.8   \n",
      "9        10.0  32.0      0  170.80    50.8          B         98.6   \n",
      "\n",
      "   Heart Rate  Blood Pressure  Cholesterol Diabetes Smoking  \n",
      "0        95.0           109.0        203.0        0     NaN  \n",
      "1        93.0           104.0        163.0        0       0  \n",
      "2        76.0           130.0        216.0        1       0  \n",
      "3        99.0           112.0        141.0        0       1  \n",
      "4        95.0             NaN        231.0        0       0  \n",
      "5        70.0           128.0        183.0      NaN       1  \n",
      "6        66.0           134.0        247.0        0       0  \n",
      "7        85.0           123.0        128.0        0       0  \n",
      "8         NaN           111.0        243.0        0       0  \n",
      "9        61.0            94.0        166.0      NaN       0  \n"
     ]
    }
   ],
   "source": [
    "temperature_average = filtered_dataset['Temperature'].mean()\n",
    "\n",
    "filtered_dataset.loc[filtered_dataset['Temperature'].isnull(), 'Temperature'] = round(temperature_average, 2)\n",
    "\n",
    "print(filtered_dataset.iloc[:10])"
   ]
  },
  {
   "cell_type": "code",
   "execution_count": 462,
   "id": "0f53fcd6-4824-4d52-a950-0247c233842b",
   "metadata": {},
   "outputs": [
    {
     "name": "stdout",
     "output_type": "stream",
     "text": [
      "   Student ID   Age Gender  Height  Weight Blood Type  Temperature  \\\n",
      "0         1.0  18.0      1  161.80    72.4          O         98.6   \n",
      "1         2.0  26.0      0  152.10    47.6          B         98.7   \n",
      "2         3.0  32.0      1  182.50    55.7          A         98.3   \n",
      "3         NaN  30.0      0  182.10    63.3          B         98.8   \n",
      "4         5.0  23.0      1  174.95    46.2          O         98.5   \n",
      "5         6.0  32.0      0  151.50    68.6          B         99.7   \n",
      "6         7.0  21.0      0  172.90    48.1         AB         97.7   \n",
      "7         8.0  28.0      0  186.50    52.4         AB         98.2   \n",
      "8         9.0  21.0      0  155.00    43.0          B         98.8   \n",
      "9        10.0  32.0      0  170.80    50.8          B         98.6   \n",
      "\n",
      "   Heart Rate  Blood Pressure  Cholesterol Diabetes Smoking  \n",
      "0        95.0           109.0        203.0        0     NaN  \n",
      "1        93.0           104.0        163.0        0       0  \n",
      "2        76.0           130.0        216.0        1       0  \n",
      "3        99.0           112.0        141.0        0       1  \n",
      "4        95.0             NaN        231.0        0       0  \n",
      "5        70.0           128.0        183.0      NaN       1  \n",
      "6        66.0           134.0        247.0        0       0  \n",
      "7        85.0           123.0        128.0        0       0  \n",
      "8        80.0           111.0        243.0        0       0  \n",
      "9        61.0            94.0        166.0      NaN       0  \n"
     ]
    }
   ],
   "source": [
    "heart_rate_average = filtered_dataset['Heart Rate'].mean()\n",
    "\n",
    "filtered_dataset.loc[filtered_dataset['Heart Rate'].isnull(), 'Heart Rate'] = round(heart_rate_average)\n",
    "\n",
    "print(filtered_dataset.iloc[:10])"
   ]
  },
  {
   "cell_type": "code",
   "execution_count": 463,
   "id": "c6bbdf11-5670-40cb-a016-96811852bbcd",
   "metadata": {},
   "outputs": [
    {
     "name": "stdout",
     "output_type": "stream",
     "text": [
      "   Student ID   Age Gender  Height  Weight Blood Type  Temperature  \\\n",
      "0         1.0  18.0      1  161.80    72.4          O         98.6   \n",
      "1         2.0  26.0      0  152.10    47.6          B         98.7   \n",
      "2         3.0  32.0      1  182.50    55.7          A         98.3   \n",
      "3         NaN  30.0      0  182.10    63.3          B         98.8   \n",
      "4         5.0  23.0      1  174.95    46.2          O         98.5   \n",
      "5         6.0  32.0      0  151.50    68.6          B         99.7   \n",
      "6         7.0  21.0      0  172.90    48.1         AB         97.7   \n",
      "7         8.0  28.0      0  186.50    52.4         AB         98.2   \n",
      "8         9.0  21.0      0  155.00    43.0          B         98.8   \n",
      "9        10.0  32.0      0  170.80    50.8          B         98.6   \n",
      "\n",
      "   Heart Rate  Blood Pressure  Cholesterol Diabetes Smoking  \n",
      "0        95.0           109.0        203.0        0     NaN  \n",
      "1        93.0           104.0        163.0        0       0  \n",
      "2        76.0           130.0        216.0        1       0  \n",
      "3        99.0           112.0        141.0        0       1  \n",
      "4        95.0           115.0        231.0        0       0  \n",
      "5        70.0           128.0        183.0      NaN       1  \n",
      "6        66.0           134.0        247.0        0       0  \n",
      "7        85.0           123.0        128.0        0       0  \n",
      "8        80.0           111.0        243.0        0       0  \n",
      "9        61.0            94.0        166.0      NaN       0  \n"
     ]
    }
   ],
   "source": [
    "blood_pressure_average = filtered_dataset['Blood Pressure'].mean()\n",
    "\n",
    "filtered_dataset.loc[filtered_dataset['Blood Pressure'].isnull(), 'Blood Pressure'] = round(blood_pressure_average)\n",
    "\n",
    "print(filtered_dataset.iloc[:10])"
   ]
  },
  {
   "cell_type": "code",
   "execution_count": 464,
   "id": "f47a70b9-2644-4849-859b-54b8ee245c47",
   "metadata": {},
   "outputs": [
    {
     "name": "stdout",
     "output_type": "stream",
     "text": [
      "   Student ID   Age Gender  Height  Weight Blood Type  Temperature  \\\n",
      "0         1.0  18.0      1  161.80    72.4          O         98.6   \n",
      "1         2.0  26.0      0  152.10    47.6          B         98.7   \n",
      "2         3.0  32.0      1  182.50    55.7          A         98.3   \n",
      "3         NaN  30.0      0  182.10    63.3          B         98.8   \n",
      "4         5.0  23.0      1  174.95    46.2          O         98.5   \n",
      "5         6.0  32.0      0  151.50    68.6          B         99.7   \n",
      "6         7.0  21.0      0  172.90    48.1         AB         97.7   \n",
      "7         8.0  28.0      0  186.50    52.4         AB         98.2   \n",
      "8         9.0  21.0      0  155.00    43.0          B         98.8   \n",
      "9        10.0  32.0      0  170.80    50.8          B         98.6   \n",
      "\n",
      "   Heart Rate  Blood Pressure  Cholesterol Diabetes Smoking  \n",
      "0        95.0           109.0        203.0        0     NaN  \n",
      "1        93.0           104.0        163.0        0       0  \n",
      "2        76.0           130.0        216.0        1       0  \n",
      "3        99.0           112.0        141.0        0       1  \n",
      "4        95.0           115.0        231.0        0       0  \n",
      "5        70.0           128.0        183.0      NaN       1  \n",
      "6        66.0           134.0        247.0        0       0  \n",
      "7        85.0           123.0        128.0        0       0  \n",
      "8        80.0           111.0        243.0        0       0  \n",
      "9        61.0            94.0        166.0      NaN       0  \n"
     ]
    }
   ],
   "source": [
    "cholesterol_average = filtered_dataset['Cholesterol'].mean()\n",
    "\n",
    "filtered_dataset.loc[filtered_dataset['Cholesterol'].isnull(), 'Cholesterol'] = round(cholesterol_average)\n",
    "\n",
    "print(filtered_dataset.iloc[:10])"
   ]
  },
  {
   "cell_type": "code",
   "execution_count": 465,
   "id": "1bf17241-fd3b-44f5-aee4-4438b6d08896",
   "metadata": {},
   "outputs": [
    {
     "name": "stdout",
     "output_type": "stream",
     "text": [
      "   Student ID   Age Gender  Height  Weight Blood Type  Temperature  \\\n",
      "0         1.0  18.0      1  161.80    72.4          O         98.6   \n",
      "1         2.0  26.0      0  152.10    47.6          B         98.7   \n",
      "2         3.0  32.0      1  182.50    55.7          A         98.3   \n",
      "3         NaN  30.0      0  182.10    63.3          B         98.8   \n",
      "4         5.0  23.0      1  174.95    46.2          O         98.5   \n",
      "5         6.0  32.0      0  151.50    68.6          B         99.7   \n",
      "6         7.0  21.0      0  172.90    48.1         AB         97.7   \n",
      "7         8.0  28.0      0  186.50    52.4         AB         98.2   \n",
      "8         9.0  21.0      0  155.00    43.0          B         98.8   \n",
      "9        10.0  32.0      0  170.80    50.8          B         98.6   \n",
      "\n",
      "   Heart Rate  Blood Pressure  Cholesterol Diabetes Smoking  \n",
      "0        95.0           109.0        203.0        0     NaN  \n",
      "1        93.0           104.0        163.0        0       0  \n",
      "2        76.0           130.0        216.0        1       0  \n",
      "3        99.0           112.0        141.0        0       1  \n",
      "4        95.0           115.0        231.0        0       0  \n",
      "5        70.0           128.0        183.0        0       1  \n",
      "6        66.0           134.0        247.0        0       0  \n",
      "7        85.0           123.0        128.0        0       0  \n",
      "8        80.0           111.0        243.0        0       0  \n",
      "9        61.0            94.0        166.0        0       0  \n"
     ]
    }
   ],
   "source": [
    "most_frequent_diabetes = filtered_dataset['Diabetes'].mode()[0] \n",
    "\n",
    "filtered_dataset.loc[filtered_dataset['Diabetes'].isnull(), 'Diabetes'] = most_frequent_diabetes\n",
    "\n",
    "print(filtered_dataset.iloc[:10])"
   ]
  },
  {
   "cell_type": "code",
   "execution_count": 466,
   "id": "845c9e34-0fb9-42ce-8607-91d533fba09c",
   "metadata": {},
   "outputs": [
    {
     "name": "stdout",
     "output_type": "stream",
     "text": [
      "   Student ID   Age Gender  Height  Weight Blood Type  Temperature  \\\n",
      "0         1.0  18.0      1  161.80    72.4          O         98.6   \n",
      "1         2.0  26.0      0  152.10    47.6          B         98.7   \n",
      "2         3.0  32.0      1  182.50    55.7          A         98.3   \n",
      "3         NaN  30.0      0  182.10    63.3          B         98.8   \n",
      "4         5.0  23.0      1  174.95    46.2          O         98.5   \n",
      "5         6.0  32.0      0  151.50    68.6          B         99.7   \n",
      "6         7.0  21.0      0  172.90    48.1         AB         97.7   \n",
      "7         8.0  28.0      0  186.50    52.4         AB         98.2   \n",
      "8         9.0  21.0      0  155.00    43.0          B         98.8   \n",
      "9        10.0  32.0      0  170.80    50.8          B         98.6   \n",
      "\n",
      "   Heart Rate  Blood Pressure  Cholesterol Diabetes Smoking  \n",
      "0        95.0           109.0        203.0        0       0  \n",
      "1        93.0           104.0        163.0        0       0  \n",
      "2        76.0           130.0        216.0        1       0  \n",
      "3        99.0           112.0        141.0        0       1  \n",
      "4        95.0           115.0        231.0        0       0  \n",
      "5        70.0           128.0        183.0        0       1  \n",
      "6        66.0           134.0        247.0        0       0  \n",
      "7        85.0           123.0        128.0        0       0  \n",
      "8        80.0           111.0        243.0        0       0  \n",
      "9        61.0            94.0        166.0        0       0  \n"
     ]
    }
   ],
   "source": [
    "most_frequent_smoking = filtered_dataset['Smoking'].mode()[0] \n",
    "\n",
    "filtered_dataset.loc[filtered_dataset['Smoking'].isnull(), 'Smoking'] = most_frequent_smoking\n",
    "\n",
    "print(filtered_dataset.iloc[:10])"
   ]
  },
  {
   "cell_type": "markdown",
   "id": "bfc581c3-800c-4fc4-8c99-9350137f3867",
   "metadata": {},
   "source": [
    "### Se procede con la primera opción de la columna \"Student ID\":"
   ]
  },
  {
   "cell_type": "code",
   "execution_count": 467,
   "id": "4f455981-4cc5-424d-a091-dfd8f6c737dc",
   "metadata": {},
   "outputs": [
    {
     "name": "stdout",
     "output_type": "stream",
     "text": [
      "    Student ID   Age Gender  Height  Weight Blood Type  Temperature  \\\n",
      "0          1.0  18.0      1  161.80    72.4          O         98.6   \n",
      "1          2.0  26.0      0  152.10    47.6          B         98.7   \n",
      "2          3.0  32.0      1  182.50    55.7          A         98.3   \n",
      "4          5.0  23.0      1  174.95    46.2          O         98.5   \n",
      "5          6.0  32.0      0  151.50    68.6          B         99.7   \n",
      "6          7.0  21.0      0  172.90    48.1         AB         97.7   \n",
      "7          8.0  28.0      0  186.50    52.4         AB         98.2   \n",
      "8          9.0  21.0      0  155.00    43.0          B         98.8   \n",
      "9         10.0  32.0      0  170.80    50.8          B         98.6   \n",
      "10        11.0  28.0      1  153.00    73.6          B         98.4   \n",
      "\n",
      "    Heart Rate  Blood Pressure  Cholesterol Diabetes Smoking  \n",
      "0         95.0           109.0        203.0        0       0  \n",
      "1         93.0           104.0        163.0        0       0  \n",
      "2         76.0           130.0        216.0        1       0  \n",
      "4         95.0           115.0        231.0        0       0  \n",
      "5         70.0           128.0        183.0        0       1  \n",
      "6         66.0           134.0        247.0        0       0  \n",
      "7         85.0           123.0        128.0        0       0  \n",
      "8         80.0           111.0        243.0        0       0  \n",
      "9         61.0            94.0        166.0        0       0  \n",
      "10        60.0           115.0        241.0        0       1  \n"
     ]
    }
   ],
   "source": [
    "filtered_dataset_no_null_id = filtered_dataset.dropna(subset=['Student ID'])\n",
    "\n",
    "print(filtered_dataset_no_null_id.iloc[:10])"
   ]
  },
  {
   "cell_type": "markdown",
   "id": "10af6ed9-4e89-45c9-a9fd-aa9a38593def",
   "metadata": {},
   "source": [
    "Se elimina los duplicados considerando todas las columnas"
   ]
  },
  {
   "cell_type": "code",
   "execution_count": 468,
   "id": "e6533a57-a3a9-4602-a73a-e49399494b12",
   "metadata": {},
   "outputs": [
    {
     "name": "stdout",
     "output_type": "stream",
     "text": [
      "        Student ID   Age Gender  Height  Weight Blood Type  Temperature  \\\n",
      "0              1.0  18.0      1  161.80   72.40          O         98.6   \n",
      "1              2.0  26.0      0  152.10   47.60          B         98.7   \n",
      "2              3.0  32.0      1  182.50   55.70          A         98.3   \n",
      "4              5.0  23.0      1  174.95   46.20          O         98.5   \n",
      "5              6.0  32.0      0  151.50   68.60          B         99.7   \n",
      "...            ...   ...    ...     ...     ...        ...          ...   \n",
      "199994     99995.0  22.0      0  159.50   69.97          A         99.0   \n",
      "199996     99997.0  29.0      1  163.90   45.20          B         97.9   \n",
      "199997     99998.0  34.0      1  174.95   99.60          B         98.8   \n",
      "199998     99999.0  30.0      1  156.40   50.10          A         99.0   \n",
      "199999    100000.0  20.0      1  153.90   99.90          O         98.6   \n",
      "\n",
      "        Heart Rate  Blood Pressure  Cholesterol Diabetes Smoking  \n",
      "0             95.0           109.0        203.0        0       0  \n",
      "1             93.0           104.0        163.0        0       0  \n",
      "2             76.0           130.0        216.0        1       0  \n",
      "4             95.0           115.0        231.0        0       0  \n",
      "5             70.0           128.0        183.0        0       1  \n",
      "...            ...             ...          ...      ...     ...  \n",
      "199994        86.0           134.0        208.0        0       0  \n",
      "199996        62.0           125.0        198.0        0       1  \n",
      "199997        60.0            90.0        154.0        0       0  \n",
      "199998        61.0           106.0        225.0        0       0  \n",
      "199999        95.0           133.0        132.0        0       0  \n",
      "\n",
      "[164396 rows x 12 columns]\n"
     ]
    }
   ],
   "source": [
    "filtered_dataset_no_null_id = filtered_dataset_no_null_id.drop_duplicates()\n",
    "print(filtered_dataset_no_null_id)"
   ]
  },
  {
   "cell_type": "markdown",
   "id": "bafc2aa8-c04e-4fdd-b317-1d1a561743d6",
   "metadata": {},
   "source": [
    "Se procede a guardar el resultado en un archivo como muestra:"
   ]
  },
  {
   "cell_type": "code",
   "execution_count": 469,
   "id": "9f06fe72-b134-49d1-82c1-a73366a97066",
   "metadata": {},
   "outputs": [],
   "source": [
    "filtered_dataset_no_null_id.to_csv('datasets/processed_medical_students_dataset_no_null_ids.csv', index=False)"
   ]
  },
  {
   "cell_type": "markdown",
   "id": "d8087b93-d082-4a16-b1f0-a6909bda73c8",
   "metadata": {},
   "source": [
    "### Se procede con la segunda opción de la columna \"Student ID\":"
   ]
  },
  {
   "cell_type": "code",
   "execution_count": 470,
   "id": "1102406e-bd13-4400-b199-7d14e9803735",
   "metadata": {},
   "outputs": [
    {
     "name": "stdout",
     "output_type": "stream",
     "text": [
      "   Student ID   Age Gender  Height  Weight Blood Type  Temperature  \\\n",
      "0         1.0  18.0      1  161.80    72.4          O         98.6   \n",
      "1         2.0  26.0      0  152.10    47.6          B         98.7   \n",
      "2         3.0  32.0      1  182.50    55.7          A         98.3   \n",
      "3    108360.0  30.0      0  182.10    63.3          B         98.8   \n",
      "4         5.0  23.0      1  174.95    46.2          O         98.5   \n",
      "5         6.0  32.0      0  151.50    68.6          B         99.7   \n",
      "6         7.0  21.0      0  172.90    48.1         AB         97.7   \n",
      "7         8.0  28.0      0  186.50    52.4         AB         98.2   \n",
      "8         9.0  21.0      0  155.00    43.0          B         98.8   \n",
      "9        10.0  32.0      0  170.80    50.8          B         98.6   \n",
      "\n",
      "   Heart Rate  Blood Pressure  Cholesterol Diabetes Smoking  \n",
      "0        95.0           109.0        203.0        0       0  \n",
      "1        93.0           104.0        163.0        0       0  \n",
      "2        76.0           130.0        216.0        1       0  \n",
      "3        99.0           112.0        141.0        0       1  \n",
      "4        95.0           115.0        231.0        0       0  \n",
      "5        70.0           128.0        183.0        0       1  \n",
      "6        66.0           134.0        247.0        0       0  \n",
      "7        85.0           123.0        128.0        0       0  \n",
      "8        80.0           111.0        243.0        0       0  \n",
      "9        61.0            94.0        166.0        0       0  \n"
     ]
    }
   ],
   "source": [
    "null_id_values = filtered_dataset['Student ID'].isna()\n",
    "\n",
    "max_id = filtered_dataset['Student ID'].max()\n",
    "\n",
    "id_value_range = np.arange(max_id+1, max_id+null_id_values.sum()+1)\n",
    "\n",
    "random_id_values = np.random.choice(id_value_range, size=null_id_values.sum(), replace=False)\n",
    "\n",
    "filtered_dataset.loc[null_id_values, 'Student ID'] = random_id_values\n",
    "\n",
    "print(filtered_dataset.iloc[:10])"
   ]
  },
  {
   "cell_type": "code",
   "execution_count": 471,
   "id": "2feeffff-6e3a-41ca-8f7a-4c9b433bfb32",
   "metadata": {},
   "outputs": [
    {
     "name": "stdout",
     "output_type": "stream",
     "text": [
      "        Student ID   Age Gender  Height  Weight Blood Type  Temperature  \\\n",
      "0              1.0  18.0      1  161.80    72.4          O         98.6   \n",
      "1              2.0  26.0      0  152.10    47.6          B         98.7   \n",
      "2              3.0  32.0      1  182.50    55.7          A         98.3   \n",
      "3         108360.0  30.0      0  182.10    63.3          B         98.8   \n",
      "4              5.0  23.0      1  174.95    46.2          O         98.5   \n",
      "...            ...   ...    ...     ...     ...        ...          ...   \n",
      "199995    119487.0  24.0      0  176.50    95.8          B         99.2   \n",
      "199996     99997.0  29.0      1  163.90    45.2          B         97.9   \n",
      "199997     99998.0  34.0      1  174.95    99.6          B         98.8   \n",
      "199998     99999.0  30.0      1  156.40    50.1          A         99.0   \n",
      "199999    100000.0  20.0      1  153.90    99.9          O         98.6   \n",
      "\n",
      "        Heart Rate  Blood Pressure  Cholesterol Diabetes Smoking  \n",
      "0             95.0           109.0        203.0        0       0  \n",
      "1             93.0           104.0        163.0        0       0  \n",
      "2             76.0           130.0        216.0        1       0  \n",
      "3             99.0           112.0        141.0        0       1  \n",
      "4             95.0           115.0        231.0        0       0  \n",
      "...            ...             ...          ...      ...     ...  \n",
      "199995        65.0           121.0        130.0        0       0  \n",
      "199996        62.0           125.0        198.0        0       1  \n",
      "199997        60.0            90.0        154.0        0       0  \n",
      "199998        61.0           106.0        225.0        0       0  \n",
      "199999        95.0           133.0        132.0        0       0  \n",
      "\n",
      "[184396 rows x 12 columns]\n"
     ]
    }
   ],
   "source": [
    "filtered_dataset = filtered_dataset.drop_duplicates()\n",
    "print(filtered_dataset)"
   ]
  },
  {
   "cell_type": "markdown",
   "id": "c7d0ea9a-5563-4c89-9973-fe494f876e7a",
   "metadata": {},
   "source": [
    "Finalmente se procede a guardar el resultado el preproceso en un archivo para csv como muestra:"
   ]
  },
  {
   "cell_type": "code",
   "execution_count": 472,
   "id": "ecf2beeb-054b-4a94-b3c1-412c9ccca341",
   "metadata": {},
   "outputs": [],
   "source": [
    "filtered_dataset.to_csv('datasets/processed_medical_students_dataset.csv', index=False)"
   ]
  }
 ],
 "metadata": {
  "kernelspec": {
   "display_name": "Python 3 (ipykernel)",
   "language": "python",
   "name": "python3"
  },
  "language_info": {
   "codemirror_mode": {
    "name": "ipython",
    "version": 3
   },
   "file_extension": ".py",
   "mimetype": "text/x-python",
   "name": "python",
   "nbconvert_exporter": "python",
   "pygments_lexer": "ipython3",
   "version": "3.11.7"
  }
 },
 "nbformat": 4,
 "nbformat_minor": 5
}
